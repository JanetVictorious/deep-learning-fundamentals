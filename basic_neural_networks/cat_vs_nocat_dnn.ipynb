{
 "cells": [
  {
   "cell_type": "markdown",
   "id": "9ebe1a94-11a7-4596-9c8f-1ea1c9e12f06",
   "metadata": {},
   "source": [
    "# Deep neural network classifying cats"
   ]
  },
  {
   "cell_type": "markdown",
   "id": "07013299-019f-4c7d-a314-8f49580843fb",
   "metadata": {},
   "source": [
    "In this notebook we will try to train a model to identify cats in images."
   ]
  },
  {
   "cell_type": "code",
   "execution_count": 6,
   "id": "68a4e2e9-8be2-428a-80f0-42fae6039736",
   "metadata": {},
   "outputs": [],
   "source": [
    "import numpy as np\n",
    "import matplotlib.pyplot as plt\n",
    "\n",
    "from utils.data_utils import load_cat_data\n",
    "\n",
    "from deep_nn import DeepNNModel"
   ]
  },
  {
   "cell_type": "code",
   "execution_count": null,
   "id": "bf2ebe8b-e5ab-4164-9f43-f5ef476dc87b",
   "metadata": {},
   "outputs": [],
   "source": []
  }
 ],
 "metadata": {
  "kernelspec": {
   "display_name": "Python 3 (ipykernel)",
   "language": "python",
   "name": "python3"
  },
  "language_info": {
   "codemirror_mode": {
    "name": "ipython",
    "version": 3
   },
   "file_extension": ".py",
   "mimetype": "text/x-python",
   "name": "python",
   "nbconvert_exporter": "python",
   "pygments_lexer": "ipython3",
   "version": "3.10.6"
  }
 },
 "nbformat": 4,
 "nbformat_minor": 5
}
